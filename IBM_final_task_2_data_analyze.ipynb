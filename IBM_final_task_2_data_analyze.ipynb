{
  "nbformat": 4,
  "nbformat_minor": 0,
  "metadata": {
    "colab": {
      "name": "IBM final task 2 data analyze.ipynb",
      "provenance": [],
      "authorship_tag": "ABX9TyNYrkXJy0NANF/tNB6yxUHt",
      "include_colab_link": true
    },
    "kernelspec": {
      "name": "python3",
      "display_name": "Python 3"
    }
  },
  "cells": [
    {
      "cell_type": "markdown",
      "metadata": {
        "id": "view-in-github",
        "colab_type": "text"
      },
      "source": [
        "<a href=\"https://colab.research.google.com/github/jdan98/bib/blob/master/IBM_final_task_2_data_analyze.ipynb\" target=\"_parent\"><img src=\"https://colab.research.google.com/assets/colab-badge.svg\" alt=\"Open In Colab\"/></a>"
      ]
    },
    {
      "cell_type": "markdown",
      "metadata": {
        "id": "DeyZZZeB-WBF",
        "colab_type": "text"
      },
      "source": [
        "Write some markdown to explain that this notebook will be mainly used for the capstone project.\n",
        "\n"
      ]
    },
    {
      "cell_type": "code",
      "metadata": {
        "id": "GFLU6FetD4Mt",
        "colab_type": "code",
        "colab": {
          "base_uri": "https://localhost:8080/",
          "height": 34
        },
        "outputId": "88965b8e-325a-4154-badf-db957c1e4fad"
      },
      "source": [
        "import pandas as pd\n",
        "import numpy as np\n",
        "print (\"hello capstone project\")"
      ],
      "execution_count": null,
      "outputs": [
        {
          "output_type": "stream",
          "text": [
            "hello capstone project\n"
          ],
          "name": "stdout"
        }
      ]
    }
  ]
}